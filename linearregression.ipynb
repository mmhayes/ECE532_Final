{
 "cells": [
  {
   "cell_type": "code",
   "execution_count": 1,
   "metadata": {},
   "outputs": [
    {
     "data": {
      "text/plain": [
       "'C:\\\\Users\\\\madel\\\\Documents\\\\Grad School\\\\Classes\\\\Fall 2020\\\\ECE532\\\\Final Project'"
      ]
     },
     "execution_count": 1,
     "metadata": {},
     "output_type": "execute_result"
    }
   ],
   "source": [
    "# package import\n",
    "\n",
    "import os\n",
    "import numpy as np\n",
    "import matplotlib as mpl\n",
    "import matplotlib.pyplot as plt \n",
    "import pandas as pd\n",
    "import scipy as sp\n",
    "import sklearn as sk\n",
    "from sklearn import preprocessing \n",
    "from sklearn.preprocessing import MinMaxScaler\n",
    "import pickle as pkl\n",
    "from sklearn.preprocessing import StandardScaler\n",
    "from sklearn.decomposition import PCA\n",
    "from sklearn import linear_model\n",
    "from sklearn.preprocessing import PolynomialFeatures\n",
    "\n",
    "# set wd\n",
    "\n",
    "os.chdir(\"\\\\Users\\\\madel\\\\Documents\\\\Grad School\\\\Classes\\\\Fall 2020\\\\ECE532\\\\Final Project\")\n",
    "os.getcwd() # sets wd\n",
    "#os.listdir(os.getcwd()) # lists files in wd"
   ]
  },
  {
   "cell_type": "code",
   "execution_count": 6,
   "metadata": {},
   "outputs": [],
   "source": [
    "# import data\n",
    "reddf = pd.read_csv(\"winequality-red.csv\",delimiter=';')\n",
    "whitedf = pd.read_csv(\"winequality-white.csv\",delimiter=';')\n",
    "\n",
    "# add color label\n",
    "reddf['color'] = str('red')\n",
    "whitedf['color']=str('white')\n",
    "    \n",
    "# stack df's \n",
    "fulldf = pd.concat([reddf, whitedf], ignore_index=True)\n",
    "#fulldf.head()\n",
    "#fulldf.tail()"
   ]
  },
  {
   "cell_type": "code",
   "execution_count": 7,
   "metadata": {},
   "outputs": [
    {
     "name": "stdout",
     "output_type": "stream",
     "text": [
      "[0 0 0 ... 1 1 1]\n"
     ]
    }
   ],
   "source": [
    "## Preprocessing: Format Data ##\n",
    "\n",
    "# encode color as numbers using sk preprocessing\n",
    "le = preprocessing.LabelEncoder()\n",
    "encoded_color = le.fit_transform(fulldf['color'])\n",
    "print(encoded_color)\n",
    "## red = 0 and white = 1"
   ]
  },
  {
   "cell_type": "code",
   "execution_count": 9,
   "metadata": {},
   "outputs": [],
   "source": [
    "# create working df where color codes are used\n",
    "colorcodes = encoded_color.tolist()\n",
    "workingdf = fulldf.drop('color', axis=1)\n",
    "#workingdf.head()\n",
    "workingdf['color']=colorcodes\n",
    "#workingdf.head()"
   ]
  },
  {
   "cell_type": "code",
   "execution_count": 56,
   "metadata": {},
   "outputs": [
    {
     "data": {
      "text/html": [
       "<div>\n",
       "<style scoped>\n",
       "    .dataframe tbody tr th:only-of-type {\n",
       "        vertical-align: middle;\n",
       "    }\n",
       "\n",
       "    .dataframe tbody tr th {\n",
       "        vertical-align: top;\n",
       "    }\n",
       "\n",
       "    .dataframe thead th {\n",
       "        text-align: right;\n",
       "    }\n",
       "</style>\n",
       "<table border=\"1\" class=\"dataframe\">\n",
       "  <thead>\n",
       "    <tr style=\"text-align: right;\">\n",
       "      <th></th>\n",
       "      <th>0</th>\n",
       "      <th>1</th>\n",
       "      <th>2</th>\n",
       "      <th>3</th>\n",
       "      <th>4</th>\n",
       "      <th>5</th>\n",
       "      <th>6</th>\n",
       "      <th>7</th>\n",
       "      <th>8</th>\n",
       "      <th>9</th>\n",
       "      <th>10</th>\n",
       "      <th>11</th>\n",
       "      <th>12</th>\n",
       "    </tr>\n",
       "  </thead>\n",
       "  <tbody>\n",
       "    <tr>\n",
       "      <th>0</th>\n",
       "      <td>0.297521</td>\n",
       "      <td>0.413333</td>\n",
       "      <td>0.000000</td>\n",
       "      <td>0.019939</td>\n",
       "      <td>0.111296</td>\n",
       "      <td>0.034722</td>\n",
       "      <td>0.064516</td>\n",
       "      <td>0.206092</td>\n",
       "      <td>0.612403</td>\n",
       "      <td>0.191011</td>\n",
       "      <td>0.202899</td>\n",
       "      <td>0.333333</td>\n",
       "      <td>0.0</td>\n",
       "    </tr>\n",
       "    <tr>\n",
       "      <th>1</th>\n",
       "      <td>0.330579</td>\n",
       "      <td>0.533333</td>\n",
       "      <td>0.000000</td>\n",
       "      <td>0.030675</td>\n",
       "      <td>0.147841</td>\n",
       "      <td>0.083333</td>\n",
       "      <td>0.140553</td>\n",
       "      <td>0.186813</td>\n",
       "      <td>0.372093</td>\n",
       "      <td>0.258427</td>\n",
       "      <td>0.260870</td>\n",
       "      <td>0.333333</td>\n",
       "      <td>0.0</td>\n",
       "    </tr>\n",
       "    <tr>\n",
       "      <th>2</th>\n",
       "      <td>0.330579</td>\n",
       "      <td>0.453333</td>\n",
       "      <td>0.024096</td>\n",
       "      <td>0.026074</td>\n",
       "      <td>0.137874</td>\n",
       "      <td>0.048611</td>\n",
       "      <td>0.110599</td>\n",
       "      <td>0.190669</td>\n",
       "      <td>0.418605</td>\n",
       "      <td>0.241573</td>\n",
       "      <td>0.260870</td>\n",
       "      <td>0.333333</td>\n",
       "      <td>0.0</td>\n",
       "    </tr>\n",
       "    <tr>\n",
       "      <th>3</th>\n",
       "      <td>0.611570</td>\n",
       "      <td>0.133333</td>\n",
       "      <td>0.337349</td>\n",
       "      <td>0.019939</td>\n",
       "      <td>0.109635</td>\n",
       "      <td>0.055556</td>\n",
       "      <td>0.124424</td>\n",
       "      <td>0.209948</td>\n",
       "      <td>0.341085</td>\n",
       "      <td>0.202247</td>\n",
       "      <td>0.260870</td>\n",
       "      <td>0.500000</td>\n",
       "      <td>0.0</td>\n",
       "    </tr>\n",
       "    <tr>\n",
       "      <th>4</th>\n",
       "      <td>0.297521</td>\n",
       "      <td>0.413333</td>\n",
       "      <td>0.000000</td>\n",
       "      <td>0.019939</td>\n",
       "      <td>0.111296</td>\n",
       "      <td>0.034722</td>\n",
       "      <td>0.064516</td>\n",
       "      <td>0.206092</td>\n",
       "      <td>0.612403</td>\n",
       "      <td>0.191011</td>\n",
       "      <td>0.202899</td>\n",
       "      <td>0.333333</td>\n",
       "      <td>0.0</td>\n",
       "    </tr>\n",
       "  </tbody>\n",
       "</table>\n",
       "</div>"
      ],
      "text/plain": [
       "          0         1         2         3         4         5         6  \\\n",
       "0  0.297521  0.413333  0.000000  0.019939  0.111296  0.034722  0.064516   \n",
       "1  0.330579  0.533333  0.000000  0.030675  0.147841  0.083333  0.140553   \n",
       "2  0.330579  0.453333  0.024096  0.026074  0.137874  0.048611  0.110599   \n",
       "3  0.611570  0.133333  0.337349  0.019939  0.109635  0.055556  0.124424   \n",
       "4  0.297521  0.413333  0.000000  0.019939  0.111296  0.034722  0.064516   \n",
       "\n",
       "          7         8         9        10        11   12  \n",
       "0  0.206092  0.612403  0.191011  0.202899  0.333333  0.0  \n",
       "1  0.186813  0.372093  0.258427  0.260870  0.333333  0.0  \n",
       "2  0.190669  0.418605  0.241573  0.260870  0.333333  0.0  \n",
       "3  0.209948  0.341085  0.202247  0.260870  0.500000  0.0  \n",
       "4  0.206092  0.612403  0.191011  0.202899  0.333333  0.0  "
      ]
     },
     "execution_count": 56,
     "metadata": {},
     "output_type": "execute_result"
    }
   ],
   "source": [
    "# scale and transform the data\n",
    "\n",
    "# scaling will help with regularization\n",
    "# each parameter will be scaled between 0 and 1\n",
    "X=workingdf\n",
    "scaler = MinMaxScaler() \n",
    "scaler.fit(X)\n",
    "scaleddf=pd.DataFrame(scaler.transform(X))\n",
    "y=scaleddf[11].reset_index(drop=True) # this is the quality column"
   ]
  },
  {
   "cell_type": "code",
   "execution_count": 49,
   "metadata": {},
   "outputs": [
    {
     "data": {
      "image/png": "[encoded data removed]",
      "text/plain": [
       "<Figure size 432x288 with 1 Axes>"
      ]
     },
     "metadata": {
      "needs_background": "light"
     },
     "output_type": "display_data"
    }
   ],
   "source": [
    "#Try simple linear regression to test that data is correctly formatted (Should look like a line)\n",
    "trainingdata=X\n",
    "clf = linear_model.LinearRegression(fit_intercept=False) #This defines the form of the model you are trying to fit (linear_model) and the optimization method (none for now)\n",
    "clf.fit(trainingdata,y) \n",
    "prediction=clf.predict(trainingdata) \n",
    "plt.scatter(prediction,y) \n",
    "plt.xlabel('Prediction')\n",
    "plt.ylabel('Measurement')\n",
    "plt.show()\n",
    "plt.close()"
   ]
  },
  {
   "cell_type": "code",
   "execution_count": 50,
   "metadata": {},
   "outputs": [
    {
     "data": {
      "image/png": "[encoded data removed]",
      "text/plain": [
       "<Figure size 432x288 with 1 Axes>"
      ]
     },
     "metadata": {
      "needs_background": "light"
     },
     "output_type": "display_data"
    }
   ],
   "source": [
    "#Try lasso with high alpha to test that data is correctly formatted (should look like a bit noisier line)\n",
    "trainingdata=X\n",
    "clf = linear_model.Lasso(alpha=0.1,fit_intercept=False,max_iter=100000)\n",
    "clf.fit(trainingdata,y) \n",
    "prediction=clf.predict(trainingdata)\n",
    "plt.scatter(prediction,y) \n",
    "plt.xlabel('Prediction')\n",
    "plt.ylabel('Measurement')\n",
    "plt.show()\n",
    "plt.close()"
   ]
  },
  {
   "cell_type": "code",
   "execution_count": 57,
   "metadata": {},
   "outputs": [
    {
     "data": {
      "image/png": "[encoded data removed]",
      "text/plain": [
       "<Figure size 432x288 with 1 Axes>"
      ]
     },
     "metadata": {
      "needs_background": "light"
     },
     "output_type": "display_data"
    }
   ],
   "source": [
    "#Find the best lambda for lasso regression by doing cross validation\n",
    "alphas=np.logspace(-5,2,15)\n",
    "for a in alphas:\n",
    "    distances=[]\n",
    "    for k in range(30): \n",
    "        trainingdata=X.sample(frac=0.9, random_state=k).sort_index() \n",
    "        testdata=X.drop(trainingdata.index) \n",
    "        clf = linear_model.Lasso(alpha=a,fit_intercept=False,max_iter=100000) \n",
    "        clf.fit(trainingdata,y.drop(testdata.index)) \n",
    "        prediction=clf.predict(testdata) \n",
    "        dist=np.linalg.norm(prediction-y.drop(trainingdata.index))\n",
    "        plt.plot(a,dist,'bo') \n",
    "        distances.append(dist)\n",
    "    plt.text(a,0,'%.1f' % min(distances))\n",
    "plt.xlabel('alpha')\n",
    "plt.ylabel('Distance')\n",
    "plt.title('LASSO Optimization')\n",
    "plt.xscale('log')\n",
    "plt.ylim(bottom=0)\n",
    "#plt.savefig('linear_regression_lasso_optimization.png')\n",
    "plt.show()\n",
    "plt.close()"
   ]
  },
  {
   "cell_type": "code",
   "execution_count": 58,
   "metadata": {},
   "outputs": [
    {
     "name": "stdout",
     "output_type": "stream",
     "text": [
      "y=1.2385287521351074x+-0.11569180562578552, r=0.9869376423371652, p=0.0, n=6497\n"
     ]
    },
    {
     "data": {
      "image/png": "[encoded data removed]",
      "text/plain": [
       "<Figure size 432x432 with 1 Axes>"
      ]
     },
     "metadata": {
      "needs_background": "light"
     },
     "output_type": "display_data"
    }
   ],
   "source": [
    "# Try with a lambda somewhere in the middle\n",
    "# Did not expect the distance to converge to zero\n",
    "plt.figure(figsize=(6,6))\n",
    "alpha=0.01\n",
    "\n",
    "#Here the training data and the test data are the same, so the plot is just showing how well the model fits the data\n",
    "trainingdata=X\n",
    "testdata=X\n",
    "clf = linear_model.Lasso(alpha=alpha,fit_intercept=False,max_iter=10000) #Create model object\n",
    "clf.fit(trainingdata,y) \n",
    "prediction=clf.predict(testdata) \n",
    "m,slope,r,p,stderr=sp.stats.linregress(prediction,y)\n",
    "print('y='+str(m)+'x+'+str(slope)+', r='+str(r)+', p='+str(p)+', n='+str(len(prediction)))\n",
    "plt.plot(prediction,y,linestyle='',marker='o')\n",
    "z=np.linspace(0,7500,100)\n",
    "plt.plot(z,m*z+slope,linestyle='dashed',color='k')\n",
    "plt.title('Quality Prediction: Linear Regression')\n",
    "plt.xlim(0,1)\n",
    "plt.ylim(0,1)\n",
    "plt.xlabel('predicted_quality')\n",
    "plt.ylabel('measured_quality')\n",
    "plt.annotate('y='+str(np.round(m,3))+\n",
    "             'x+'+str(np.round(slope,3))+', r='+str(np.round(r,3))+\n",
    "             '\\n p='+str(p)+', n='+str(len(prediction)),(0,.90), \n",
    "             xycoords='axes fraction')\n",
    "#plt.savefig('linear_regression_godnessoffit_wholeset.png')\n",
    "plt.show()\n",
    "plt.close()"
   ]
  },
  {
   "cell_type": "code",
   "execution_count": 40,
   "metadata": {},
   "outputs": [
    {
     "data": {
      "text/html": [
       "<div>\n",
       "<style scoped>\n",
       "    .dataframe tbody tr th:only-of-type {\n",
       "        vertical-align: middle;\n",
       "    }\n",
       "\n",
       "    .dataframe tbody tr th {\n",
       "        vertical-align: top;\n",
       "    }\n",
       "\n",
       "    .dataframe thead th {\n",
       "        text-align: right;\n",
       "    }\n",
       "</style>\n",
       "<table border=\"1\" class=\"dataframe\">\n",
       "  <thead>\n",
       "    <tr style=\"text-align: right;\">\n",
       "      <th></th>\n",
       "      <th>fixed acidity</th>\n",
       "      <th>volatile acidity</th>\n",
       "      <th>citric acid</th>\n",
       "      <th>residual sugar</th>\n",
       "      <th>chlorides</th>\n",
       "      <th>free sulfur dioxide</th>\n",
       "      <th>total sulfur dioxide</th>\n",
       "      <th>density</th>\n",
       "      <th>pH</th>\n",
       "      <th>sulphates</th>\n",
       "      <th>alcohol</th>\n",
       "      <th>quality</th>\n",
       "      <th>color</th>\n",
       "    </tr>\n",
       "  </thead>\n",
       "  <tbody>\n",
       "    <tr>\n",
       "      <th>0</th>\n",
       "      <td>7.4</td>\n",
       "      <td>0.70</td>\n",
       "      <td>0.00</td>\n",
       "      <td>1.9</td>\n",
       "      <td>0.076</td>\n",
       "      <td>11.0</td>\n",
       "      <td>34.0</td>\n",
       "      <td>0.9978</td>\n",
       "      <td>3.51</td>\n",
       "      <td>0.56</td>\n",
       "      <td>9.4</td>\n",
       "      <td>5</td>\n",
       "      <td>0</td>\n",
       "    </tr>\n",
       "    <tr>\n",
       "      <th>1</th>\n",
       "      <td>7.8</td>\n",
       "      <td>0.88</td>\n",
       "      <td>0.00</td>\n",
       "      <td>2.6</td>\n",
       "      <td>0.098</td>\n",
       "      <td>25.0</td>\n",
       "      <td>67.0</td>\n",
       "      <td>0.9968</td>\n",
       "      <td>3.20</td>\n",
       "      <td>0.68</td>\n",
       "      <td>9.8</td>\n",
       "      <td>5</td>\n",
       "      <td>0</td>\n",
       "    </tr>\n",
       "    <tr>\n",
       "      <th>2</th>\n",
       "      <td>7.8</td>\n",
       "      <td>0.76</td>\n",
       "      <td>0.04</td>\n",
       "      <td>2.3</td>\n",
       "      <td>0.092</td>\n",
       "      <td>15.0</td>\n",
       "      <td>54.0</td>\n",
       "      <td>0.9970</td>\n",
       "      <td>3.26</td>\n",
       "      <td>0.65</td>\n",
       "      <td>9.8</td>\n",
       "      <td>5</td>\n",
       "      <td>0</td>\n",
       "    </tr>\n",
       "    <tr>\n",
       "      <th>3</th>\n",
       "      <td>11.2</td>\n",
       "      <td>0.28</td>\n",
       "      <td>0.56</td>\n",
       "      <td>1.9</td>\n",
       "      <td>0.075</td>\n",
       "      <td>17.0</td>\n",
       "      <td>60.0</td>\n",
       "      <td>0.9980</td>\n",
       "      <td>3.16</td>\n",
       "      <td>0.58</td>\n",
       "      <td>9.8</td>\n",
       "      <td>6</td>\n",
       "      <td>0</td>\n",
       "    </tr>\n",
       "    <tr>\n",
       "      <th>4</th>\n",
       "      <td>7.4</td>\n",
       "      <td>0.70</td>\n",
       "      <td>0.00</td>\n",
       "      <td>1.9</td>\n",
       "      <td>0.076</td>\n",
       "      <td>11.0</td>\n",
       "      <td>34.0</td>\n",
       "      <td>0.9978</td>\n",
       "      <td>3.51</td>\n",
       "      <td>0.56</td>\n",
       "      <td>9.4</td>\n",
       "      <td>5</td>\n",
       "      <td>0</td>\n",
       "    </tr>\n",
       "  </tbody>\n",
       "</table>\n",
       "</div>"
      ],
      "text/plain": [
       "   fixed acidity  volatile acidity  citric acid  residual sugar  chlorides  \\\n",
       "0            7.4              0.70         0.00             1.9      0.076   \n",
       "1            7.8              0.88         0.00             2.6      0.098   \n",
       "2            7.8              0.76         0.04             2.3      0.092   \n",
       "3           11.2              0.28         0.56             1.9      0.075   \n",
       "4            7.4              0.70         0.00             1.9      0.076   \n",
       "\n",
       "   free sulfur dioxide  total sulfur dioxide  density    pH  sulphates  \\\n",
       "0                 11.0                  34.0   0.9978  3.51       0.56   \n",
       "1                 25.0                  67.0   0.9968  3.20       0.68   \n",
       "2                 15.0                  54.0   0.9970  3.26       0.65   \n",
       "3                 17.0                  60.0   0.9980  3.16       0.58   \n",
       "4                 11.0                  34.0   0.9978  3.51       0.56   \n",
       "\n",
       "   alcohol  quality  color  \n",
       "0      9.4        5      0  \n",
       "1      9.8        5      0  \n",
       "2      9.8        5      0  \n",
       "3      9.8        6      0  \n",
       "4      9.4        5      0  "
      ]
     },
     "execution_count": 40,
     "metadata": {},
     "output_type": "execute_result"
    }
   ],
   "source": [
    "workingdf.head()"
   ]
  },
  {
   "cell_type": "code",
   "execution_count": 5,
   "metadata": {},
   "outputs": [
    {
     "data": {
      "text/html": [
       "<div>\n",
       "<style scoped>\n",
       "    .dataframe tbody tr th:only-of-type {\n",
       "        vertical-align: middle;\n",
       "    }\n",
       "\n",
       "    .dataframe tbody tr th {\n",
       "        vertical-align: top;\n",
       "    }\n",
       "\n",
       "    .dataframe thead th {\n",
       "        text-align: right;\n",
       "    }\n",
       "</style>\n",
       "<table border=\"1\" class=\"dataframe\">\n",
       "  <thead>\n",
       "    <tr style=\"text-align: right;\">\n",
       "      <th></th>\n",
       "      <th>0</th>\n",
       "      <th>1</th>\n",
       "      <th>2</th>\n",
       "      <th>3</th>\n",
       "      <th>4</th>\n",
       "      <th>5</th>\n",
       "      <th>6</th>\n",
       "      <th>7</th>\n",
       "      <th>8</th>\n",
       "      <th>9</th>\n",
       "      <th>10</th>\n",
       "      <th>11</th>\n",
       "      <th>12</th>\n",
       "    </tr>\n",
       "  </thead>\n",
       "  <tbody>\n",
       "    <tr>\n",
       "      <th>0</th>\n",
       "      <td>0.297521</td>\n",
       "      <td>0.413333</td>\n",
       "      <td>0.000000</td>\n",
       "      <td>0.019939</td>\n",
       "      <td>0.111296</td>\n",
       "      <td>0.034722</td>\n",
       "      <td>0.064516</td>\n",
       "      <td>0.206092</td>\n",
       "      <td>0.612403</td>\n",
       "      <td>0.191011</td>\n",
       "      <td>0.202899</td>\n",
       "      <td>0.333333</td>\n",
       "      <td>0.0</td>\n",
       "    </tr>\n",
       "    <tr>\n",
       "      <th>1</th>\n",
       "      <td>0.330579</td>\n",
       "      <td>0.533333</td>\n",
       "      <td>0.000000</td>\n",
       "      <td>0.030675</td>\n",
       "      <td>0.147841</td>\n",
       "      <td>0.083333</td>\n",
       "      <td>0.140553</td>\n",
       "      <td>0.186813</td>\n",
       "      <td>0.372093</td>\n",
       "      <td>0.258427</td>\n",
       "      <td>0.260870</td>\n",
       "      <td>0.333333</td>\n",
       "      <td>0.0</td>\n",
       "    </tr>\n",
       "    <tr>\n",
       "      <th>2</th>\n",
       "      <td>0.330579</td>\n",
       "      <td>0.453333</td>\n",
       "      <td>0.024096</td>\n",
       "      <td>0.026074</td>\n",
       "      <td>0.137874</td>\n",
       "      <td>0.048611</td>\n",
       "      <td>0.110599</td>\n",
       "      <td>0.190669</td>\n",
       "      <td>0.418605</td>\n",
       "      <td>0.241573</td>\n",
       "      <td>0.260870</td>\n",
       "      <td>0.333333</td>\n",
       "      <td>0.0</td>\n",
       "    </tr>\n",
       "    <tr>\n",
       "      <th>3</th>\n",
       "      <td>0.611570</td>\n",
       "      <td>0.133333</td>\n",
       "      <td>0.337349</td>\n",
       "      <td>0.019939</td>\n",
       "      <td>0.109635</td>\n",
       "      <td>0.055556</td>\n",
       "      <td>0.124424</td>\n",
       "      <td>0.209948</td>\n",
       "      <td>0.341085</td>\n",
       "      <td>0.202247</td>\n",
       "      <td>0.260870</td>\n",
       "      <td>0.500000</td>\n",
       "      <td>0.0</td>\n",
       "    </tr>\n",
       "    <tr>\n",
       "      <th>4</th>\n",
       "      <td>0.297521</td>\n",
       "      <td>0.413333</td>\n",
       "      <td>0.000000</td>\n",
       "      <td>0.019939</td>\n",
       "      <td>0.111296</td>\n",
       "      <td>0.034722</td>\n",
       "      <td>0.064516</td>\n",
       "      <td>0.206092</td>\n",
       "      <td>0.612403</td>\n",
       "      <td>0.191011</td>\n",
       "      <td>0.202899</td>\n",
       "      <td>0.333333</td>\n",
       "      <td>0.0</td>\n",
       "    </tr>\n",
       "  </tbody>\n",
       "</table>\n",
       "</div>"
      ],
      "text/plain": [
       "          0         1         2         3         4         5         6  \\\n",
       "0  0.297521  0.413333  0.000000  0.019939  0.111296  0.034722  0.064516   \n",
       "1  0.330579  0.533333  0.000000  0.030675  0.147841  0.083333  0.140553   \n",
       "2  0.330579  0.453333  0.024096  0.026074  0.137874  0.048611  0.110599   \n",
       "3  0.611570  0.133333  0.337349  0.019939  0.109635  0.055556  0.124424   \n",
       "4  0.297521  0.413333  0.000000  0.019939  0.111296  0.034722  0.064516   \n",
       "\n",
       "          7         8         9        10        11   12  \n",
       "0  0.206092  0.612403  0.191011  0.202899  0.333333  0.0  \n",
       "1  0.186813  0.372093  0.258427  0.260870  0.333333  0.0  \n",
       "2  0.190669  0.418605  0.241573  0.260870  0.333333  0.0  \n",
       "3  0.209948  0.341085  0.202247  0.260870  0.500000  0.0  \n",
       "4  0.206092  0.612403  0.191011  0.202899  0.333333  0.0  "
      ]
     },
     "execution_count": 5,
     "metadata": {},
     "output_type": "execute_result"
    }
   ],
   "source": [
    "## Holdout evaluation ##\n",
    "\n",
    "## scale and transform the data\n",
    "X=workingdf\n",
    "scaler = MinMaxScaler() \n",
    "scaler.fit(X)\n",
    "scaleddf = pd.DataFrame(scaler.transform(X))\n",
    "scaleddf.head()"
   ]
  },
  {
   "cell_type": "code",
   "execution_count": 6,
   "metadata": {},
   "outputs": [],
   "source": [
    "## split the data 80/20\n",
    "finaltraindata = scaleddf.sample(frac=0.8).sort_index() \n",
    "evaldata_X = scaleddf.drop(finaltraindata.index) # define final eval data as everything but the training data\n",
    "evaldata_Y = evaldata_X[11] # define the final eval labels as the quality column\n",
    "evaldata_X = evaldata_X.drop(11, axis=1) # define the final eval data as everything but quality in the holdout set\n",
    "\n",
    "# define target as the training data's quality ratings\n",
    "target = finaltraindata[11] # after scaling, column names were given numbers\n",
    "\n",
    "# define data as the scaled training set, drop quality\n",
    "data = finaltraindata.drop(11, axis=1)"
   ]
  },
  {
   "cell_type": "code",
   "execution_count": 13,
   "metadata": {},
   "outputs": [
    {
     "name": "stdout",
     "output_type": "stream",
     "text": [
      "y=0.6655641295255917x+0.17857919771783054, r=0.4043857986835401, p=2.7969020380484993e-52, n=1299\n"
     ]
    },
    {
     "data": {
      "image/png": "[encoded data removed]",
      "text/plain": [
       "<Figure size 432x288 with 1 Axes>"
      ]
     },
     "metadata": {
      "needs_background": "light"
     },
     "output_type": "display_data"
    }
   ],
   "source": [
    "## holdout evaluation\n",
    "\n",
    "clf = linear_model.Lasso(alpha=0.01,fit_intercept=False,max_iter=10000) # lambda from above\n",
    "clf.fit(data,target) \n",
    "y_pred=clf.predict(evaldata_X) \n",
    "m,slope,r,p,stderr=sp.stats.linregress(y_pred,evaldata_Y)\n",
    "print('y='+str(m)+'x+'+str(slope)+', r='+str(r)+', p='+str(p)+', n='+str(len(y_pred)))\n",
    "plt.scatter(y_pred,evaldata_Y)\n",
    "z=np.linspace(0,1,100)\n",
    "plt.plot(z,m*z+slope,linestyle='dashed',color='k')\n",
    "plt.title('Linear Regression: Holdout Evaluation')\n",
    "plt.xlim(0,1)\n",
    "plt.ylim(0,1)\n",
    "plt.xlabel('predicted_quality')\n",
    "plt.ylabel('measured_quality')\n",
    "plt.annotate('y='+str(np.round(m,3))+\n",
    "             'x+'+str(np.round(slope,3))+', r='+str(np.round(r,3))+\n",
    "             '\\n p='+str(p)+', n='+str(len(y_pred)),(0,.90), \n",
    "             xycoords='axes fraction')\n",
    "#plt.savefig('linear_regression_holdout_evaluation.png')\n",
    "plt.show()\n",
    "plt.close()"
   ]
  },
  {
   "cell_type": "code",
   "execution_count": 11,
   "metadata": {},
   "outputs": [],
   "source": [
    "### 2. Separate Reds and Whites, Repeat ###\n",
    "\n",
    "reddf = workingdf[workingdf['color']==0]\n",
    "whitedf = workingdf[workingdf['color']==1]"
   ]
  },
  {
   "cell_type": "code",
   "execution_count": 22,
   "metadata": {},
   "outputs": [],
   "source": [
    "# scale and transform the data\n",
    "\n",
    "# scaling will help with regularization\n",
    "# each parameter will be scaled between 0 and 1\n",
    "X=reddf\n",
    "scaler = MinMaxScaler() \n",
    "scaler.fit(X)\n",
    "scaleddf=pd.DataFrame(scaler.transform(X))\n",
    "y=scaleddf[11].reset_index(drop=True) # this is the quality column"
   ]
  },
  {
   "cell_type": "code",
   "execution_count": 24,
   "metadata": {},
   "outputs": [
    {
     "data": {
      "image/png": "[encoded data removed]",
      "text/plain": [
       "<Figure size 432x288 with 1 Axes>"
      ]
     },
     "metadata": {
      "needs_background": "light"
     },
     "output_type": "display_data"
    }
   ],
   "source": [
    "#Find the best lambda for lasso regression by doing cross validation\n",
    "alphas=np.logspace(-5,2,15)\n",
    "for a in alphas:\n",
    "    distances=[]\n",
    "    for k in range(30): \n",
    "        trainingdata=X.sample(frac=0.9).sort_index() \n",
    "        testdata=X.drop(trainingdata.index) \n",
    "        clf = linear_model.Lasso(alpha=a,fit_intercept=False,max_iter=100000) \n",
    "        clf.fit(trainingdata,y.drop(testdata.index)) \n",
    "        prediction=clf.predict(testdata) \n",
    "        dist=np.linalg.norm(prediction-y.drop(trainingdata.index))\n",
    "        plt.plot(a,dist,'bo') \n",
    "        distances.append(dist)\n",
    "    plt.text(a,0,'%.1f' % min(distances))\n",
    "plt.xlabel('alpha')\n",
    "plt.ylabel('Distance')\n",
    "plt.title('LASSO Optimization_Reds Only')\n",
    "plt.xscale('log')\n",
    "plt.ylim(bottom=0)\n",
    "#plt.savefig('linear_regression_lasso_optimization_reds.png')\n",
    "plt.show()\n",
    "plt.close()"
   ]
  },
  {
   "cell_type": "code",
   "execution_count": 25,
   "metadata": {},
   "outputs": [],
   "source": [
    "## Holdout evaluation ##\n",
    "\n",
    "## split the data 80/20\n",
    "finaltraindata = scaleddf.sample(frac=0.8).sort_index() \n",
    "evaldata_X = scaleddf.drop(finaltraindata.index) # define final eval data as everything but the training data\n",
    "evaldata_Y = evaldata_X[11] # define the final eval labels as the quality column\n",
    "evaldata_X = evaldata_X.drop(11, axis=1) # define the final eval data as everything but quality in the holdout set\n",
    "\n",
    "# define target as the training data's quality ratings\n",
    "target = finaltraindata[11] # after scaling, column names were given numbers\n",
    "\n",
    "# define data as the scaled training set, drop quality\n",
    "data = finaltraindata.drop(11, axis=1)"
   ]
  },
  {
   "cell_type": "code",
   "execution_count": 27,
   "metadata": {},
   "outputs": [
    {
     "name": "stdout",
     "output_type": "stream",
     "text": [
      "y=0.7580882114105162x+0.13482929540471755, r=0.4386452662040977, p=1.7625292726945365e-16, n=320\n"
     ]
    },
    {
     "data": {
      "image/png": "[encoded data removed]",
      "text/plain": [
       "<Figure size 432x288 with 1 Axes>"
      ]
     },
     "metadata": {
      "needs_background": "light"
     },
     "output_type": "display_data"
    }
   ],
   "source": [
    "## holdout evaluation\n",
    "\n",
    "clf = linear_model.Lasso(alpha=0.01,fit_intercept=False,max_iter=10000) # lambda from above\n",
    "clf.fit(data,target) \n",
    "y_pred=clf.predict(evaldata_X) \n",
    "m,slope,r,p,stderr=sp.stats.linregress(y_pred,evaldata_Y)\n",
    "print('y='+str(m)+'x+'+str(slope)+', r='+str(r)+', p='+str(p)+', n='+str(len(y_pred)))\n",
    "plt.scatter(y_pred,evaldata_Y)\n",
    "z=np.linspace(0,1,100)\n",
    "plt.plot(z,m*z+slope,linestyle='dashed',color='k')\n",
    "plt.title('Linear Regression: Holdout Evaluation_Reds Only')\n",
    "plt.xlim(0,1)\n",
    "plt.ylim(0,1.1)\n",
    "plt.xlabel('predicted_quality')\n",
    "plt.ylabel('measured_quality')\n",
    "plt.annotate('y='+str(np.round(m,3))+\n",
    "             'x+'+str(np.round(slope,3))+', r='+str(np.round(r,3))+\n",
    "             '\\n p='+str(p)+', n='+str(len(y_pred)),(0,.90), \n",
    "             xycoords='axes fraction')\n",
    "#plt.savefig('linear_regression_holdout_evaluation_reds_only.png')\n",
    "plt.show()\n",
    "plt.close()"
   ]
  },
  {
   "cell_type": "code",
   "execution_count": 23,
   "metadata": {},
   "outputs": [],
   "source": [
    "## White Wines Only ###\n",
    "\n",
    "# scale and transform the data\n",
    "\n",
    "# scaling will help with regularization\n",
    "# each parameter will be scaled between 0 and 1\n",
    "X=whitedf\n",
    "scaler = MinMaxScaler() \n",
    "scaler.fit(X)\n",
    "scaleddf=pd.DataFrame(scaler.transform(X))\n",
    "y=scaleddf[11].reset_index(drop=True) # this is the quality column\n",
    "#scaleddf.head()"
   ]
  },
  {
   "cell_type": "code",
   "execution_count": 24,
   "metadata": {},
   "outputs": [
    {
     "data": {
      "image/png": "[encoded data removed]",
      "text/plain": [
       "<Figure size 432x288 with 1 Axes>"
      ]
     },
     "metadata": {
      "needs_background": "light"
     },
     "output_type": "display_data"
    }
   ],
   "source": [
    "#Find the best lambda for lasso regression by doing cross validation\n",
    "alphas=np.logspace(-5,2,15)\n",
    "for a in alphas:\n",
    "    distances=[]\n",
    "    for k in range(30): \n",
    "        trainingdata=scaleddf.sample(frac=0.9).sort_index() \n",
    "        testdata=scaleddf.drop(trainingdata.index, axis=0) \n",
    "        clf = linear_model.Lasso(alpha=a,fit_intercept=False,max_iter=100000) \n",
    "        clf.fit(trainingdata,trainingdata[11]) \n",
    "        prediction=clf.predict(testdata) \n",
    "        dist=np.linalg.norm(prediction-y.drop(trainingdata.index))\n",
    "        plt.plot(a,dist,'bo') \n",
    "        distances.append(dist)\n",
    "    plt.text(a,0,'%.1f' % min(distances))\n",
    "plt.xlabel('alpha')\n",
    "plt.ylabel('Distance')\n",
    "plt.title('LASSO Optimization_White Wines Only')\n",
    "plt.xscale('log')\n",
    "plt.ylim(bottom=0)\n",
    "#plt.savefig('linear_regression_lasso_optimization_whites.png')\n",
    "plt.show()\n",
    "plt.close()"
   ]
  },
  {
   "cell_type": "code",
   "execution_count": 25,
   "metadata": {},
   "outputs": [],
   "source": [
    "## Holdout evaluation ##\n",
    "\n",
    "## split the data 80/20\n",
    "finaltraindata = scaleddf.sample(frac=0.8).sort_index() \n",
    "evaldata_X = scaleddf.drop(finaltraindata.index) # define final eval data as everything but the training data\n",
    "evaldata_Y = evaldata_X[11] # define the final eval labels as the quality column\n",
    "evaldata_X = evaldata_X.drop(11, axis=1) # define the final eval data as everything but quality in the holdout set\n",
    "\n",
    "# define target as the training data's quality ratings\n",
    "target = finaltraindata[11] # after scaling, column names were given numbers\n",
    "\n",
    "# define data as the scaled training set, drop quality\n",
    "data = finaltraindata.drop(11, axis=1)"
   ]
  },
  {
   "cell_type": "code",
   "execution_count": 27,
   "metadata": {},
   "outputs": [
    {
     "name": "stdout",
     "output_type": "stream",
     "text": [
      "y=0.6039791527924805x+0.20176739153913242, r=0.4005431437827214, p=4.6167299984092514e-39, n=980\n"
     ]
    },
    {
     "data": {
      "image/png": "[encoded data removed]",
      "text/plain": [
       "<Figure size 432x288 with 1 Axes>"
      ]
     },
     "metadata": {
      "needs_background": "light"
     },
     "output_type": "display_data"
    }
   ],
   "source": [
    "## holdout evaluation\n",
    "\n",
    "clf = linear_model.Lasso(alpha=0.01,fit_intercept=False,max_iter=10000) # lambda from above\n",
    "clf.fit(data,target) \n",
    "y_pred=clf.predict(evaldata_X) \n",
    "m,slope,r,p,stderr=sp.stats.linregress(y_pred,evaldata_Y)\n",
    "print('y='+str(m)+'x+'+str(slope)+', r='+str(r)+', p='+str(p)+', n='+str(len(y_pred)))\n",
    "plt.scatter(y_pred,evaldata_Y)\n",
    "z=np.linspace(0,1,100)\n",
    "plt.plot(z,m*z+slope,linestyle='dashed',color='k')\n",
    "plt.title('Linear Regression: Holdout Evaluation_White Wines Only')\n",
    "plt.xlim(0,1)\n",
    "plt.ylim(0,1.1)\n",
    "plt.xlabel('predicted_quality')\n",
    "plt.ylabel('measured_quality')\n",
    "plt.annotate('y='+str(np.round(m,3))+\n",
    "             'x+'+str(np.round(slope,3))+', r='+str(np.round(r,3))+\n",
    "             '\\n p='+str(p)+', n='+str(len(y_pred)),(0,.90), \n",
    "             xycoords='axes fraction')\n",
    "plt.savefig('linear_regression_holdout_evaluation_whites_only.png')\n",
    "plt.show()\n",
    "plt.close()"
   ]
  }
 ],
 "metadata": {
  "kernelspec": {
   "display_name": "Python 3",
   "language": "python",
   "name": "python3"
  },
  "language_info": {
   "codemirror_mode": {
    "name": "ipython",
    "version": 3
   },
   "file_extension": ".py",
   "mimetype": "text/x-python",
   "name": "python",
   "nbconvert_exporter": "python",
   "pygments_lexer": "ipython3",
   "version": "3.7.4"
  }
 },
 "nbformat": 4,
 "nbformat_minor": 4
}
