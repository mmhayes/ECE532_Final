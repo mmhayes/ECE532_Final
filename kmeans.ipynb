{
 "cells": [
  {
   "cell_type": "code",
   "execution_count": 9,
   "metadata": {},
   "outputs": [
    {
     "data": {
      "text/plain": [
       "'C:\\\\Users\\\\madel\\\\Documents\\\\Grad School\\\\Classes\\\\Fall 2020\\\\ECE532\\\\Final Project'"
      ]
     },
     "execution_count": 9,
     "metadata": {},
     "output_type": "execute_result"
    }
   ],
   "source": [
    "# package import\n",
    "\n",
    "import os\n",
    "import numpy as np\n",
    "from scipy.io import loadmat\n",
    "import matplotlib as mpl\n",
    "import matplotlib.pyplot as plt \n",
    "from mpl_toolkits.mplot3d import Axes3D\n",
    "import pandas as pd\n",
    "import itertools\n",
    "import math\n",
    "import sklearn as sk\n",
    "from sklearn.preprocessing import MinMaxScaler\n",
    "from sklearn.cluster import KMeans\n",
    "import seaborn as sns\n",
    "\n",
    "# set wd\n",
    "\n",
    "os.chdir(\"\\\\Users\\\\madel\\\\Documents\\\\Grad School\\\\Classes\\\\Fall 2020\\\\ECE532\\\\Final Project\")\n",
    "os.getcwd() # sets wd\n",
    "#os.listdir(os.getcwd()) # lists files in wd\n"
   ]
  },
  {
   "cell_type": "code",
   "execution_count": 10,
   "metadata": {},
   "outputs": [],
   "source": [
    "# import data\n",
    "reddf = pd.read_csv(\"winequality-red.csv\",delimiter=';')\n",
    "whitedf = pd.read_csv(\"winequality-white.csv\",delimiter=';')\n",
    "\n",
    "# add color label\n",
    "reddf['color'] = str('red')\n",
    "whitedf['color']=str('white')\n",
    "    \n",
    "# stack df's \n",
    "fulldf = pd.concat([reddf, whitedf], ignore_index=True)\n",
    "#fulldf.head()\n",
    "#fulldf.tail()"
   ]
  },
  {
   "cell_type": "code",
   "execution_count": null,
   "metadata": {},
   "outputs": [],
   "source": [
    "### Hypothesis: Including all features will lead to noisy clustering \n",
    "### and a higher error rate than excluding some features"
   ]
  },
  {
   "cell_type": "code",
   "execution_count": 3,
   "metadata": {},
   "outputs": [],
   "source": [
    "### 1. All Data ###\n",
    "\n",
    "# remove color for data formatting\n",
    "trimdf = fulldf.drop('color',axis=1)"
   ]
  },
  {
   "cell_type": "code",
   "execution_count": 4,
   "metadata": {},
   "outputs": [],
   "source": [
    "# scale and transform the data\n",
    "\n",
    "# since kmeans clustering doesn't handle irregularly shaped data\n",
    "# each parameter will be scaled between 0 and 1\n",
    "X=trimdf\n",
    "scaler = MinMaxScaler() \n",
    "scaler.fit(X)\n",
    "scaleddf=pd.DataFrame(scaler.transform(X))"
   ]
  },
  {
   "cell_type": "code",
   "execution_count": 5,
   "metadata": {},
   "outputs": [
    {
     "name": "stdout",
     "output_type": "stream",
     "text": [
      "Cluster Centers:  [[0.29206849 0.18481443 0.18996717 0.09349989 0.08957278 0.10941891\n",
      "  0.28034535 0.17506207 0.37345947 0.17378814 0.24537775 0.40030422]\n",
      " [0.26812159 0.15624969 0.19480099 0.04659765 0.06164338 0.09257737\n",
      "  0.21328209 0.10477242 0.40512758 0.17642813 0.52788939 0.56974706]]\n",
      "SS distances: 699.4912445148213\n",
      "Number of Iterations: 8\n"
     ]
    }
   ],
   "source": [
    "# run kmeans on scaled df\n",
    "kmeans = KMeans(n_clusters=2, init='random', n_init=50, random_state=0).fit(scaleddf)\n",
    "print('Cluster Centers: ' , str(kmeans.cluster_centers_))\n",
    "print('SS distances: ' + str(kmeans.inertia_))\n",
    "print('Number of Iterations: ' + str(kmeans.n_iter_))"
   ]
  },
  {
   "cell_type": "code",
   "execution_count": 6,
   "metadata": {},
   "outputs": [],
   "source": [
    "# add kmeans cluster labels to df\n",
    "\n",
    "labels = kmeans.labels_\n",
    "labels = labels.tolist()\n",
    "fulldf['label'] = labels\n",
    "#fulldf.head()"
   ]
  },
  {
   "cell_type": "code",
   "execution_count": 7,
   "metadata": {},
   "outputs": [
    {
     "name": "stdout",
     "output_type": "stream",
     "text": [
      "Full Data Error Rate: 47.17561951670002%\n"
     ]
    }
   ],
   "source": [
    "## we'll check for errors by comapring 'color' and 'label' columns ##\n",
    "#  assume Red = 1 #\n",
    "correct = []\n",
    "incorrect = []\n",
    "for z in list(fulldf.index.values):\n",
    "    if fulldf.at[z, 'color'] == 'red' and fulldf.at[z, 'label']==1:\n",
    "        correct.append(z)\n",
    "    elif fulldf.at[z,'color']=='white' and fulldf.at[z,'label']==1:\n",
    "        incorrect.append(z)\n",
    "    elif fulldf.at[z, 'color'] == 'red' and fulldf.at[z, 'label']==0:\n",
    "        incorrect.append(z)\n",
    "    elif fulldf.at[z,'color']=='white' and fulldf.at[z,'label']==0:\n",
    "        correct.append(z)\n",
    "        \n",
    "n_total = len(fulldf.index.values)\n",
    "n_errors = len(incorrect)/n_total\n",
    "print('Full Data Error Rate: ' + str(n_errors*100) + '%')"
   ]
  },
  {
   "cell_type": "code",
   "execution_count": 11,
   "metadata": {},
   "outputs": [],
   "source": [
    "### 2. Remove Some Features ###\n",
    "# alcohol content and rating show similar distributions \n",
    "# between red and white, and might not be predictive\n",
    "\n",
    "# remove quality and alcohol content\n",
    "trimdf = fulldf.drop('color',axis=1)\n",
    "trimdf = trimdf.drop('quality',axis=1)\n",
    "trimdf = trimdf.drop('alcohol',axis=1)\n",
    "#trimdf.head()"
   ]
  },
  {
   "cell_type": "code",
   "execution_count": 12,
   "metadata": {},
   "outputs": [],
   "source": [
    "# scale and transform the data\n",
    "\n",
    "# since kmeans clustering doesn't handle irregularly shaped data\n",
    "# each parameter will be scaled between 0 and 1\n",
    "X=trimdf\n",
    "scaler = MinMaxScaler() \n",
    "scaler.fit(X)\n",
    "scaleddf=pd.DataFrame(scaler.transform(X))"
   ]
  },
  {
   "cell_type": "code",
   "execution_count": 13,
   "metadata": {},
   "outputs": [
    {
     "name": "stdout",
     "output_type": "stream",
     "text": [
      "Cluster Centers:  [[0.25302069 0.1295245  0.20279466 0.08930091 0.06146042 0.1202644\n",
      "  0.30717106 0.13376085 0.36115965 0.151668  ]\n",
      " [0.36793108 0.30083686 0.16016152 0.03027309 0.12697642 0.05051527\n",
      "  0.09373545 0.18289756 0.4605017  0.24286112]]\n",
      "SS distances: 410.2867585703211\n",
      "Number of Iterations: 5\n"
     ]
    }
   ],
   "source": [
    "# run kmeans on scaled df\n",
    "kmeans = KMeans(n_clusters=2, init='random', n_init=50, random_state=0).fit(scaleddf)\n",
    "print('Cluster Centers: ' , str(kmeans.cluster_centers_))\n",
    "print('SS distances: ' + str(kmeans.inertia_))\n",
    "print('Number of Iterations: ' + str(kmeans.n_iter_))"
   ]
  },
  {
   "cell_type": "code",
   "execution_count": 14,
   "metadata": {},
   "outputs": [],
   "source": [
    "# add kmeans cluster labels to df\n",
    "\n",
    "labels = kmeans.labels_\n",
    "labels = labels.tolist()\n",
    "fulldf['label'] = labels\n",
    "#fulldf.head()"
   ]
  },
  {
   "cell_type": "code",
   "execution_count": 15,
   "metadata": {},
   "outputs": [
    {
     "name": "stdout",
     "output_type": "stream",
     "text": [
      "Trimmed Data Error Rate: 1.970140064645221%\n"
     ]
    }
   ],
   "source": [
    "# we'll check for errors by comapring 'color' and 'label' columns\n",
    "# assume Red = 1 #\n",
    "correct = []\n",
    "incorrect = []\n",
    "for z in list(fulldf.index.values):\n",
    "    if fulldf.at[z, 'color'] == 'red' and fulldf.at[z, 'label']==1:\n",
    "        correct.append(z)\n",
    "    elif fulldf.at[z,'color']=='white' and fulldf.at[z,'label']==1:\n",
    "        incorrect.append(z)\n",
    "    elif fulldf.at[z, 'color'] == 'red' and fulldf.at[z, 'label']==0:\n",
    "        incorrect.append(z)\n",
    "    elif fulldf.at[z,'color']=='white' and fulldf.at[z,'label']==0:\n",
    "        correct.append(z)\n",
    "        \n",
    "n_total = len(fulldf.index.values)\n",
    "n_errors = len(incorrect)/n_total\n",
    "print('Trimmed Data Error Rate: ' + str(n_errors*100) + '%')"
   ]
  }
 ],
 "metadata": {
  "kernelspec": {
   "display_name": "Python 3",
   "language": "python",
   "name": "python3"
  },
  "language_info": {
   "codemirror_mode": {
    "name": "ipython",
    "version": 3
   },
   "file_extension": ".py",
   "mimetype": "text/x-python",
   "name": "python",
   "nbconvert_exporter": "python",
   "pygments_lexer": "ipython3",
   "version": "3.7.4"
  }
 },
 "nbformat": 4,
 "nbformat_minor": 4
}
